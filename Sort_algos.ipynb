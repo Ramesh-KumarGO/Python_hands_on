{
 "cells": [
  {
   "cell_type": "code",
   "execution_count": 2,
   "metadata": {},
   "outputs": [
    {
     "name": "stdout",
     "output_type": "stream",
     "text": [
      "[0, 1, 2, 3, 4, 5, 6, 7, 8, 9]\n"
     ]
    }
   ],
   "source": [
    "# Bubble sort\n",
    "\n",
    "def bubble(list_us):\n",
    "    list_len = len(list_us)\n",
    "    flag = False\n",
    "    while not flag:\n",
    "        flag = True\n",
    "        for i in range(list_len -1):\n",
    "            if list_us[i] > list_us[i+1]:\n",
    "                flag = False\n",
    "                list_us[i], list_us[i+1] = list_us[i+1], list_us[i]\n",
    "    return list_us\n",
    "\n",
    "\n",
    "print(bubble([9,8,7,6,5,4,3,2,1,0]))"
   ]
  },
  {
   "cell_type": "code",
   "execution_count": 11,
   "metadata": {},
   "outputs": [
    {
     "data": {
      "text/plain": [
       "[6, 7, 8, 9]"
      ]
     },
     "execution_count": 11,
     "metadata": {},
     "output_type": "execute_result"
    }
   ],
   "source": [
    "# BS-2\n",
    "\n",
    "\n",
    "def b_srt(num):\n",
    "    for i in range(len(num)-1, 0 ,-1):   # if len is 4, loop from 3 till 0 (3,2,1)\n",
    "        for j in range(i):               # iter-1 i = 3, 0, 1, 2 -> 1> 2, \n",
    "            if num[j] > num[j+1]:\n",
    "                t = num[j]\n",
    "                num[j] = num[j+1]\n",
    "                num[j+1] = t\n",
    "    return num\n",
    "\n",
    "b_srt([9,8,7,6])"
   ]
  },
  {
   "cell_type": "code",
   "execution_count": 9,
   "metadata": {},
   "outputs": [
    {
     "name": "stdout",
     "output_type": "stream",
     "text": [
      "[1, 3, 5, 6, 7, 2]\n",
      "[1, 2, 5, 6, 7, 3]\n",
      "[1, 2, 3, 6, 7, 5]\n",
      "[1, 2, 3, 5, 7, 6]\n",
      "[1, 2, 3, 5, 6, 7]\n",
      "[1, 2, 3, 5, 6, 7]\n"
     ]
    }
   ],
   "source": [
    "# selection sort\n",
    "\n",
    "\n",
    "# start with taking the first number as min value, and compare every other inthe right of this and see if there is any other min value\n",
    "# if yes, then swap the min values based onthe position.\n",
    "\n",
    "\n",
    "def selection_srt(list_a):\n",
    "    \n",
    "    index_len = range(0, len(list_a) -1)\n",
    "    \n",
    "    for i in index_len:\n",
    "        min_v = i\n",
    "        for j in range(i+1, len(list_a)):\n",
    "            if list_a[j] < list_a[min_v]:\n",
    "                min_v = j\n",
    "        if min_v != i:\n",
    "            list_a[min_v], list_a[i] = list_a[i], list_a[min_v]\n",
    "        print(list_a)    \n",
    "    \n",
    "    return list_a\n",
    "    \n",
    "print(selection_srt([5,3,1,6,7,2]))"
   ]
  },
  {
   "cell_type": "code",
   "execution_count": 16,
   "metadata": {},
   "outputs": [
    {
     "data": {
      "text/plain": [
       "[0, 1, 3, 4, 5, 6, 7, 9]"
      ]
     },
     "execution_count": 16,
     "metadata": {},
     "output_type": "execute_result"
    }
   ],
   "source": [
    "# Quick sort\n",
    "\n",
    "\n",
    "def qk_sort(num):\n",
    "        \n",
    "    if len(num)<=1:\n",
    "        return num\n",
    "    else:\n",
    "        pivot = num.pop()\n",
    "    \n",
    "    num_lower =[]\n",
    "    num_greater = []\n",
    "    \n",
    "    for i in num:\n",
    "        if i < pivot:\n",
    "            num_lower.append(i)\n",
    "        else:\n",
    "            num_greater.append(i)\n",
    "            \n",
    "    return qk_sort(num_lower) + [pivot] + qk_sort(num_greater)\n",
    "\n",
    "\n",
    "qk_sort([5,3,4,7,1,6,9,0])"
   ]
  },
  {
   "cell_type": "code",
   "execution_count": 21,
   "metadata": {},
   "outputs": [],
   "source": [
    "b =7\n",
    "e = 10\n",
    "\n",
    "m = b+(e-b)//2\n"
   ]
  },
  {
   "cell_type": "code",
   "execution_count": 22,
   "metadata": {},
   "outputs": [
    {
     "data": {
      "text/plain": [
       "8"
      ]
     },
     "execution_count": 22,
     "metadata": {},
     "output_type": "execute_result"
    }
   ],
   "source": [
    "m"
   ]
  },
  {
   "cell_type": "code",
   "execution_count": null,
   "metadata": {},
   "outputs": [],
   "source": []
  }
 ],
 "metadata": {
  "kernelspec": {
   "display_name": "Python 3",
   "language": "python",
   "name": "python3"
  },
  "language_info": {
   "codemirror_mode": {
    "name": "ipython",
    "version": 3
   },
   "file_extension": ".py",
   "mimetype": "text/x-python",
   "name": "python",
   "nbconvert_exporter": "python",
   "pygments_lexer": "ipython3",
   "version": "3.7.6"
  }
 },
 "nbformat": 4,
 "nbformat_minor": 4
}
